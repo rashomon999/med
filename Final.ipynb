{
  "nbformat": 4,
  "nbformat_minor": 0,
  "metadata": {
    "colab": {
      "provenance": [],
      "include_colab_link": true
    },
    "kernelspec": {
      "name": "python3",
      "display_name": "Python 3"
    },
    "language_info": {
      "name": "python"
    }
  },
  "cells": [
    {
      "cell_type": "markdown",
      "metadata": {
        "id": "view-in-github",
        "colab_type": "text"
      },
      "source": [
        "<a href=\"https://colab.research.google.com/github/rashomon999/med/blob/main/Final.ipynb\" target=\"_parent\"><img src=\"https://colab.research.google.com/assets/colab-badge.svg\" alt=\"Open In Colab\"/></a>"
      ]
    },
    {
      "cell_type": "markdown",
      "source": [
        "##Luis López. Codigo: A00405100.\n",
        "##Wilder García"
      ],
      "metadata": {
        "id": "28-2y3-C4r-R"
      }
    },
    {
      "cell_type": "markdown",
      "source": [
        "#Solución\n",
        "\n"
      ],
      "metadata": {
        "id": "ovq4meWMjaKU"
      }
    },
    {
      "cell_type": "markdown",
      "source": [
        "1)$ ~~[3(−5 + 10 + (−5)) − 2((−2) + (−4) + 10)] ^2 $\n",
        "\n",
        "$ [3(−5 + 10 + (−5)) − 2((−2) + (−4) + 10)] ^2 $\n",
        "\n",
        "$ [3(5+(-5))-2(4))]^2 $\n",
        "\n",
        "$ [3(0)-8]^2$\n",
        "\n",
        "$ [-8^2] $\n",
        "\n",
        "$ =64$"
      ],
      "metadata": {
        "id": "NFuk5ZBjjdSH"
      }
    },
    {
      "cell_type": "code",
      "source": [
        "(3*(-5+10+(-5))-2*((-2)+(-4)+10))**2"
      ],
      "metadata": {
        "colab": {
          "base_uri": "https://localhost:8080/"
        },
        "id": "fpyO9Mp-jh_W",
        "outputId": "93ab0e4b-39d4-4792-a2db-9a76647145e2"
      },
      "execution_count": null,
      "outputs": [
        {
          "output_type": "execute_result",
          "data": {
            "text/plain": [
              "64"
            ]
          },
          "metadata": {},
          "execution_count": 4
        }
      ]
    },
    {
      "cell_type": "markdown",
      "source": [
        "$2)~~~ 45 + [3 (2 + 8) –8/4] + 10 − 83 $\n",
        "\n",
        "$~~~ 45 + [3 (10) –8/4] + 10 − 83 $\n",
        "\n",
        "$~~~ 45 + [3 (10) –8/4] + 10 − 83 $\n",
        "\n",
        "$ ~~ 45 + [30 - 2] +10 -83$\n",
        "\n",
        "$ ~~ 45 + 28 +10 -83$\n",
        "\n",
        "$ ~~   83-83$\n",
        "\n",
        "$ ~~   0$\n",
        "\n"
      ],
      "metadata": {
        "id": "tfuIAi0ClQoq"
      }
    },
    {
      "cell_type": "code",
      "source": [
        "45+(3*(2+8)-8/4)+10-83"
      ],
      "metadata": {
        "colab": {
          "base_uri": "https://localhost:8080/"
        },
        "id": "vbZyRFUNloIW",
        "outputId": "181cad64-30d1-488c-e914-6cfa2e23c557"
      },
      "execution_count": null,
      "outputs": [
        {
          "output_type": "execute_result",
          "data": {
            "text/plain": [
              "0.0"
            ]
          },
          "metadata": {},
          "execution_count": 11
        }
      ]
    },
    {
      "cell_type": "markdown",
      "source": [
        "$3) ~~~[( −4 + 7)2 − 10].(−4)–7 − 3$"
      ],
      "metadata": {
        "id": "cHfCbVP2mmlA"
      }
    },
    {
      "cell_type": "markdown",
      "source": [
        "$ ~~~[(3)2 − 10].(−4)–7 − 3$ $$$$\n",
        "$ ~~~[-4]*-4-7-3$ $$$$\n",
        "$ ~~ 16-7-3 $ $$$$\n",
        "$ ~~ 6 $"
      ],
      "metadata": {
        "id": "0q8EPbYHm0uu"
      }
    },
    {
      "cell_type": "code",
      "source": [
        "((-4+7)*2-10)*(-4)-7-3"
      ],
      "metadata": {
        "colab": {
          "base_uri": "https://localhost:8080/"
        },
        "id": "qFs1cKzkmuh0",
        "outputId": "885b1106-e1e0-4998-d903-09aadf5c6832"
      },
      "execution_count": null,
      "outputs": [
        {
          "output_type": "execute_result",
          "data": {
            "text/plain": [
              "6"
            ]
          },
          "metadata": {},
          "execution_count": 13
        }
      ]
    },
    {
      "cell_type": "markdown",
      "source": [
        "##1.3 Combinación de operaciones\n"
      ],
      "metadata": {
        "id": "aFg_q1PvpYJf"
      }
    },
    {
      "cell_type": "markdown",
      "source": [
        "$(\\frac{1}{5})[(\\frac{1}{2})^2+(\\frac{3}{4})^2]+\\frac{10}{25}[(\\frac{1}{2})^2+(\\frac{3}{4})^2]+\\frac{8}{40}[(\\frac{1}{2})^2+(\\frac{3}{4})^2]$"
      ],
      "metadata": {
        "id": "RpVE6crKphxy"
      }
    },
    {
      "cell_type": "markdown",
      "source": [
        "$$(\\frac{1}{5})[(\\frac{1}{2})^2+(\\frac{3}{4})^2]+\\frac{10}{25}[(\\frac{1}{2})^2+(\\frac{3}{4})^2]+\\frac{8}{40}[(\\frac{1}{2})^2+(\\frac{3}{4})^2]\n",
        "$$\n",
        "$$\n",
        "= \\left(\\frac{1}{5}\\right)\\left[\\frac{1}{4} + \\frac{9}{16}\\right] + \\frac{10}{25}\\left[\\frac{1}{4} + \\frac{9}{16}\\right] + \\frac{8}{40}\\left[\\frac{1}{4} + \\frac{9}{16}\\right]\n",
        "$$\n",
        "$$\n",
        "= \\left(\\frac{1}{5}\\right)\\left[\\frac{13}{16}\\right] + \\frac{2}{5}\\left[\\frac{13}{16}\\right] + \\frac{1}{5}\\left[\\frac{13}{16}\\right]\n",
        "$$\n",
        "$$\n",
        "= \\left(\\frac{1}{5} + \\frac{2}{5} + \\frac{1}{5}\\right)\\left[\\frac{13}{16}\\right]\n",
        "$$\n",
        "$$\n",
        "= \\frac{4}{5} \\times \\frac{13}{16}\n",
        "$$\n",
        "$$\n",
        "= \\frac{52}{80}\n",
        "$$\n",
        "$$\n",
        "= \\frac{13}{20}\n",
        "$$"
      ],
      "metadata": {
        "id": "NoKd9l7ftqrz"
      }
    },
    {
      "cell_type": "code",
      "source": [
        "(1/5)*((1/2)**2+(3/4)**2)+(10/25)*((1/2)**2+(3/4)**2)+(8/40)*((1/2)**2+(3/4)**2)"
      ],
      "metadata": {
        "colab": {
          "base_uri": "https://localhost:8080/"
        },
        "id": "zVbmmWKivVn2",
        "outputId": "52189e84-1fce-4def-db23-12bf97016aec"
      },
      "execution_count": null,
      "outputs": [
        {
          "output_type": "execute_result",
          "data": {
            "text/plain": [
              "0.65"
            ]
          },
          "metadata": {},
          "execution_count": 16
        }
      ]
    },
    {
      "cell_type": "markdown",
      "source": [
        "$\\frac{9}{4}(\\frac{6}{8})^{-1}-\\frac{5}{2}(\\frac{25}{20})^{-1}+\\frac{40}{8}(\\frac{20}{16})^{-1} $ $$$$\n",
        "$= \\frac{9}{4}(\\frac{8}{6})-\\frac{5}{2}(\\frac{20}{25})+\\frac{40}{8}(\\frac{16}{20}) $ $$$$\n",
        "$= \\frac{9}{4}(\\frac{8}{6})-\\frac{5}{2}(\\frac{20}{25})+\\frac{40}{8}(\\frac{16}{20}) $ $$$$\n",
        "$= (\\frac{72}{24})-(\\frac{100}{50})+(\\frac{640}{160}) $ $$$$\n",
        "$ = 3 - 2 + 4 = 5$"
      ],
      "metadata": {
        "id": "U5jkaciJz0IX"
      }
    },
    {
      "cell_type": "code",
      "source": [
        "9/4*(8/6)-5/2*(20/25)+40/8*(16/20)"
      ],
      "metadata": {
        "colab": {
          "base_uri": "https://localhost:8080/"
        },
        "id": "G0-YZ9aM2wzx",
        "outputId": "d853a334-56e0-4f0d-99d3-4e801383464d"
      },
      "execution_count": null,
      "outputs": [
        {
          "output_type": "execute_result",
          "data": {
            "text/plain": [
              "5.0"
            ]
          },
          "metadata": {},
          "execution_count": 17
        }
      ]
    },
    {
      "cell_type": "markdown",
      "source": [
        "##Punto 2"
      ],
      "metadata": {
        "id": "6s2pVy7w3N3a"
      }
    },
    {
      "cell_type": "code",
      "source": [
        "import numpy as np\n",
        "\n",
        "# Rango de valores de n\n",
        "n_values = list(range(-20, 20))\n",
        "\n",
        "# Inicializar la lista b_n\n",
        "b_n = []\n",
        "\n",
        "# Calcular b_n basado en las condiciones\n",
        "for x in n_values:\n",
        "    if x < -3:\n",
        "        b_n.append(x + 2)\n",
        "    elif -3 <= x < 0:\n",
        "        b_n.append(-x)\n",
        "    else:\n",
        "        b_n.append(2)\n",
        "\n",
        "# Imprimir el resultado\n",
        "\n",
        "for i in range(len(n_values)):\n",
        "    print(\"n = \", n_values[i], \"b_n = \", b_n[i])\n",
        "\n",
        "print(\"El dominio son todos los reales. \")\n",
        "print(\"los valores calculados van de -20,19. Sin embargo la funcion esta definida en el dominio de los reales.\")"
      ],
      "metadata": {
        "colab": {
          "base_uri": "https://localhost:8080/"
        },
        "id": "bjo7OFch3i5z",
        "outputId": "184f5f63-0773-41d4-af76-1f3ee0b5f15b"
      },
      "execution_count": null,
      "outputs": [
        {
          "output_type": "stream",
          "name": "stdout",
          "text": [
            "n =  -20 b_n =  -18\n",
            "n =  -19 b_n =  -17\n",
            "n =  -18 b_n =  -16\n",
            "n =  -17 b_n =  -15\n",
            "n =  -16 b_n =  -14\n",
            "n =  -15 b_n =  -13\n",
            "n =  -14 b_n =  -12\n",
            "n =  -13 b_n =  -11\n",
            "n =  -12 b_n =  -10\n",
            "n =  -11 b_n =  -9\n",
            "n =  -10 b_n =  -8\n",
            "n =  -9 b_n =  -7\n",
            "n =  -8 b_n =  -6\n",
            "n =  -7 b_n =  -5\n",
            "n =  -6 b_n =  -4\n",
            "n =  -5 b_n =  -3\n",
            "n =  -4 b_n =  -2\n",
            "n =  -3 b_n =  3\n",
            "n =  -2 b_n =  2\n",
            "n =  -1 b_n =  1\n",
            "n =  0 b_n =  2\n",
            "n =  1 b_n =  2\n",
            "n =  2 b_n =  2\n",
            "n =  3 b_n =  2\n",
            "n =  4 b_n =  2\n",
            "n =  5 b_n =  2\n",
            "n =  6 b_n =  2\n",
            "n =  7 b_n =  2\n",
            "n =  8 b_n =  2\n",
            "n =  9 b_n =  2\n",
            "n =  10 b_n =  2\n",
            "n =  11 b_n =  2\n",
            "n =  12 b_n =  2\n",
            "n =  13 b_n =  2\n",
            "n =  14 b_n =  2\n",
            "n =  15 b_n =  2\n",
            "n =  16 b_n =  2\n",
            "n =  17 b_n =  2\n",
            "n =  18 b_n =  2\n",
            "n =  19 b_n =  2\n",
            "El dominio son todos los reales. \n"
          ]
        }
      ]
    },
    {
      "cell_type": "code",
      "source": [
        "import matplotlib.pyplot as plt\n",
        "\n",
        "# Solicitar valores de a y b al usuario\n",
        "a = float(input(\"Ingrese el valor de a: \"))\n",
        "b = float(input(\"Ingrese el valor de b: \"))\n",
        "\n",
        "# Rango de valores de x\n",
        "x_values = list(range(-10, 10))\n",
        "\n",
        "# Inicializar la lista b_n\n",
        "b_n = []\n",
        "\n",
        "# Calcular b_n basado en las condiciones\n",
        "for x in n_values:\n",
        "    if x < 0:\n",
        "        b_n.append(a - x**2)\n",
        "    elif 0 <= x <= 1:\n",
        "        b_n.append(2)\n",
        "    else:\n",
        "        b_n.append(x**2 - 2*x + b)\n",
        "\n",
        "\n",
        "# Imprimir el resultado2\n",
        "for i in range(len(n_values)):\n",
        "    print(f\"n = {n_values[i]} b_n = {b_n[i]}\")\n",
        "print(\"los valores calculados van de -20,19. Sin embargo la funcion esta definida en el dominio de los reales.\")"
      ],
      "metadata": {
        "colab": {
          "base_uri": "https://localhost:8080/"
        },
        "id": "QarTr2ss6fY2",
        "outputId": "8118bec7-0e33-4235-b38f-1d535d3b5860"
      },
      "execution_count": null,
      "outputs": [
        {
          "output_type": "stream",
          "name": "stdout",
          "text": [
            "Ingrese el valor de a: 2\n",
            "Ingrese el valor de b: 3\n",
            "n = -20 b_n = -398.0\n",
            "n = -19 b_n = -359.0\n",
            "n = -18 b_n = -322.0\n",
            "n = -17 b_n = -287.0\n",
            "n = -16 b_n = -254.0\n",
            "n = -15 b_n = -223.0\n",
            "n = -14 b_n = -194.0\n",
            "n = -13 b_n = -167.0\n",
            "n = -12 b_n = -142.0\n",
            "n = -11 b_n = -119.0\n",
            "n = -10 b_n = -98.0\n",
            "n = -9 b_n = -79.0\n",
            "n = -8 b_n = -62.0\n",
            "n = -7 b_n = -47.0\n",
            "n = -6 b_n = -34.0\n",
            "n = -5 b_n = -23.0\n",
            "n = -4 b_n = -14.0\n",
            "n = -3 b_n = -7.0\n",
            "n = -2 b_n = -2.0\n",
            "n = -1 b_n = 1.0\n",
            "n = 0 b_n = 2\n",
            "n = 1 b_n = 2\n",
            "n = 2 b_n = 3.0\n",
            "n = 3 b_n = 6.0\n",
            "n = 4 b_n = 11.0\n",
            "n = 5 b_n = 18.0\n",
            "n = 6 b_n = 27.0\n",
            "n = 7 b_n = 38.0\n",
            "n = 8 b_n = 51.0\n",
            "n = 9 b_n = 66.0\n",
            "n = 10 b_n = 83.0\n",
            "n = 11 b_n = 102.0\n",
            "n = 12 b_n = 123.0\n",
            "n = 13 b_n = 146.0\n",
            "n = 14 b_n = 171.0\n",
            "n = 15 b_n = 198.0\n",
            "n = 16 b_n = 227.0\n",
            "n = 17 b_n = 258.0\n",
            "n = 18 b_n = 291.0\n",
            "n = 19 b_n = 326.0\n"
          ]
        }
      ]
    },
    {
      "cell_type": "markdown",
      "source": [
        "| #  | Nombre                         | Variable  | <<<<<<<<<<<<<<<Fórmula>>>>>>>>>>>>>>>>>>.       |   |\n",
        "|----|--------------------------------|----------------------|---------------------------------------|----|\n",
        "| 1  | Área lateral de un cilindro    | r                    | $ A= 2\\pi rg  $|   |\n",
        "| 2  | Volumen del cono               | h                    | $ V = \\frac{A_g \\cdot h}{3}        $|   |\n",
        "| 3  | Volumen de la esfera           | r                    | $ V = \\frac{4}{3}\\pi r^3 $          |   |\n",
        "| 4  | Área del trapecio              | h                    | $ A = \\frac{(B + b) \\cdot h}{2} $   |   |\n",
        "| 5  | Intensidad eléctrica           | t                    | $ I = \\frac{q}{t} $                 |   |\n",
        "| 6  | Ley de Ohm                     | R                    | $ I = \\frac{V}{R} $                 |   |\n",
        "| 7  | Energía eléctrica              | t                    | $ E = \\frac{V^2}{R} \\cdot t $       |   |\n",
        "| 8  | Resistencias en paralelo       | R                    | $ \\frac{1}{R} = \\frac{1}{R_1} + \\frac{1}{R_2} $ |   |\n",
        "| 9  | Ecuación de gases ideales      | P_f                  | $ \\frac{P_0 V_0}{T_0} = \\frac{P_f V_f}{T_f} $  |   |\n",
        "| 10 | Intensidad eléctrica | V_B                 | $ I = \\frac{V_A - V_B}{R} $         |   |\n"
      ],
      "metadata": {
        "id": "gUyRU0lQW66R"
      }
    },
    {
      "cell_type": "markdown",
      "source": [
        "#Punto 3"
      ],
      "metadata": {
        "id": "bv05EkKguwc9"
      }
    },
    {
      "cell_type": "markdown",
      "source": [
        "##3.1"
      ],
      "metadata": {
        "id": "N_-BLOanvfYg"
      }
    },
    {
      "cell_type": "code",
      "source": [
        "import math\n",
        "\n",
        "def calcular_potencias_y_raices(lista):\n",
        "    cuadrados = [x ** 2 for x in lista]\n",
        "    cubos = [x ** 3 for x in lista]\n",
        "    raices = [math.sqrt(x) if x >= 0 else None for x in lista]\n",
        "\n",
        "    return cuadrados, cubos, raices\n",
        "\n",
        "numeros = [4, 9, 16, -1]\n",
        "cuadrados, cubos, raices = calcular_potencias_y_raices(numeros)\n",
        "\n",
        "print(\"Cuadrados:\", cuadrados)\n",
        "print(\"Cubos:\", cubos)\n",
        "print(\"Raices:\", raices)\n"
      ],
      "metadata": {
        "colab": {
          "base_uri": "https://localhost:8080/"
        },
        "id": "c_Y2r6bLvAqy",
        "outputId": "bc6cd7ba-df65-47cb-fc00-8fb4f18c024e"
      },
      "execution_count": null,
      "outputs": [
        {
          "output_type": "stream",
          "name": "stdout",
          "text": [
            "Cuadrados: [16, 81, 256, 1]\n",
            "Cubos: [64, 729, 4096, -1]\n",
            "Raíces: [2.0, 3.0, 4.0, None]\n"
          ]
        }
      ]
    },
    {
      "cell_type": "markdown",
      "source": [
        "##3.2"
      ],
      "metadata": {
        "id": "LXyR-4KYvhmI"
      }
    },
    {
      "cell_type": "code",
      "source": [
        "\n",
        "def procesar_notas(asignaturas):\n",
        "    resultados = []\n",
        "\n",
        "    for asignatura in asignaturas:\n",
        "        while True:\n",
        "            try:\n",
        "                nota = float(input(f\"Que nota sacaste en {asignatura}? \"))\n",
        "                if 0 <= nota <= 5:\n",
        "                    break\n",
        "                else:\n",
        "                    print(\"La nota debe estar entre 0 y 5. Inténtalo de nuevo.\")\n",
        "            except ValueError:\n",
        "                print(\"Por favor, ingresa un número válido.\")\n",
        "\n",
        "        if nota >= 4:\n",
        "            mensaje = \"Nivel superior\"\n",
        "        elif 3.5 <= nota < 4:\n",
        "            mensaje = \"Asignatura aprobada pero debe asistir a plan de mejoramiento, diríjase a CAMBAS.\"\n",
        "        else:\n",
        "            mensaje = \"Asignatura no aprobada. Debe repetirla el próximo semestre.\"\n",
        "\n",
        "        resultados.append([asignatura, nota, mensaje])\n",
        "\n",
        "    return resultados\n",
        "\n",
        "def imprimir_resultados(resultados):\n",
        "    for asignatura, nota, mensaje in resultados:\n",
        "        print(f\"{asignatura}, {nota}, {mensaje}\")\n",
        "\n",
        "# Lista de asignaturas vistas el semestre pasado\n",
        "asignaturas = [\"Matemáticas\", \"Historia\", \"Ciencias\", \"Literatura\"]\n",
        "\n",
        "resultados = procesar_notas(asignaturas)\n",
        "imprimir_resultados(resultados)\n",
        "\n"
      ],
      "metadata": {
        "colab": {
          "base_uri": "https://localhost:8080/"
        },
        "id": "j3zye5CSvi4p",
        "outputId": "786d9827-2a7e-4228-fbc2-2f694c0e7a8b"
      },
      "execution_count": null,
      "outputs": [
        {
          "output_type": "stream",
          "name": "stdout",
          "text": [
            "¿Qué nota sacaste en Matemáticas? 2\n",
            "¿Qué nota sacaste en Historia? 3\n",
            "¿Qué nota sacaste en Ciencias? 3\n",
            "¿Qué nota sacaste en Literatura? 3\n",
            "Matemáticas, 2.0, Asignatura no aprobada. Debe repetirla el próximo semestre.\n",
            "Historia, 3.0, Asignatura no aprobada. Debe repetirla el próximo semestre.\n",
            "Ciencias, 3.0, Asignatura no aprobada. Debe repetirla el próximo semestre.\n",
            "Literatura, 3.0, Asignatura no aprobada. Debe repetirla el próximo semestre.\n"
          ]
        }
      ]
    },
    {
      "cell_type": "markdown",
      "source": [
        "##3.3"
      ],
      "metadata": {
        "id": "A8r0fm5xwIqz"
      }
    },
    {
      "cell_type": "code",
      "source": [
        "precios_petroleo = [80, 82, 85, 79, 83, 88, 90]\n",
        "\n",
        "precio_litro_cocacola = float(input(\"Cual es el precio de un litro de Coca-Cola hoy? \"))\n",
        "\n",
        "litros_por_barril = 159\n",
        "precio_barril_cocacola = precio_litro_cocacola * litros_por_barril\n",
        "\n",
        "relacion_precios = []\n",
        "for precio in precios_petroleo:\n",
        "    relacion = precio / precio_barril_cocacola\n",
        "    relacion_precios.append(relacion)\n",
        "\n",
        "precio_promedio_petroleo = sum(precios_petroleo) / len(precios_petroleo)\n",
        "precio_minimo_petroleo = min(precios_petroleo)\n",
        "precio_maximo_petroleo = max(precios_petroleo)\n",
        "\n",
        "print(\"Relación de precios del barril de petroleo con el barril de Coca-Cola:\")\n",
        "for i in range(len(precios_petroleo)):\n",
        "    print(\"Día\", i + 1, \"Precio del barril de petróleo =\", precios_petroleo[i], \"Relación con el barril de Coca-Cola =\", relacion_precios[i])\n",
        "\n",
        "print(\"\\nConclusiones:\")\n",
        "print(\"Durante los ultimos 7 dias, el precio del barril de petroleo ha estado entre\", precio_minimo_petroleo, \"y\", precio_maximo_petroleo,\n",
        "      \"dolares, con un promedio de\", precio_promedio_petroleo, \"dolares.\")\n",
        "print(\"Hoy, el precio de un litro de Coca-Cola es\", precio_litro_cocacola, \"dolares, lo que equivale a\", precio_barril_cocacola, \"dolares por barril.\")\n",
        "print(\"Comparado con el barril de petroleo, el barril de Coca-Cola es aproximadamente\", sum(relacion_precios) / len(relacion_precios),\n",
        "      \"veces menos caro.\")\n"
      ],
      "metadata": {
        "colab": {
          "base_uri": "https://localhost:8080/"
        },
        "id": "lIv1oXih2U5b",
        "outputId": "1b3e6fee-f52f-427b-be44-f63574a12a0f"
      },
      "execution_count": null,
      "outputs": [
        {
          "output_type": "stream",
          "name": "stdout",
          "text": [
            "¿Cuál es el precio de un litro de Coca-Cola hoy? 3\n",
            "Relación de precios del barril de petróleo con el barril de Coca-Cola:\n",
            "Día 1 Precio del barril de petróleo = 80 Relación con el barril de Coca-Cola = 0.16771488469601678\n",
            "Día 2 Precio del barril de petróleo = 82 Relación con el barril de Coca-Cola = 0.1719077568134172\n",
            "Día 3 Precio del barril de petróleo = 85 Relación con el barril de Coca-Cola = 0.17819706498951782\n",
            "Día 4 Precio del barril de petróleo = 79 Relación con el barril de Coca-Cola = 0.16561844863731656\n",
            "Día 5 Precio del barril de petróleo = 83 Relación con el barril de Coca-Cola = 0.1740041928721174\n",
            "Día 6 Precio del barril de petróleo = 88 Relación con el barril de Coca-Cola = 0.18448637316561844\n",
            "Día 7 Precio del barril de petróleo = 90 Relación con el barril de Coca-Cola = 0.18867924528301888\n",
            "\n",
            "Conclusiones:\n",
            "Durante los últimos 7 días, el precio del barril de petróleo ha estado entre 79 y 90 dólares, con un promedio de 83.85714285714286 dólares.\n",
            "Hoy, el precio de un litro de Coca-Cola es 3.0 dólares, lo que equivale a 477.0 dólares por barril.\n",
            "Comparado con el barril de petróleo, el barril de Coca-Cola es aproximadamente 0.17580113806528902 veces menos caro.\n"
          ]
        }
      ]
    },
    {
      "cell_type": "markdown",
      "source": [
        "##3.4"
      ],
      "metadata": {
        "id": "RvhjmJEY2vr2"
      }
    },
    {
      "cell_type": "code",
      "source": [
        "ahorro_por_ano = 5\n",
        "incremento_anual = 10\n",
        "numero_de_anos = 15\n",
        "\n",
        "ahorros = []\n",
        "\n",
        "for ano in range(1, numero_de_anos + 1):\n",
        "    ahorro_anual = ahorro_por_ano * 12\n",
        "    ahorros.append(ahorro_anual)\n",
        "    ahorro_por_ano += incremento_anual\n",
        "\n",
        "total_ahorrado = sum(ahorros)\n",
        "\n",
        "print(\"Ahorro por año durante los 15 años de matrimonio:\")\n",
        "for i in range(numero_de_anos):\n",
        "    print(\"Año :\", i + 1, \": \", ahorros[i])\n",
        "\n",
        "print(\"\\nTotal ahorrado al final del 15 año:\", total_ahorrado)\n"
      ],
      "metadata": {
        "colab": {
          "base_uri": "https://localhost:8080/"
        },
        "id": "h5UXxbkY2xMu",
        "outputId": "fae3dc4b-7a27-458e-c64f-849b1592a5ef"
      },
      "execution_count": null,
      "outputs": [
        {
          "output_type": "stream",
          "name": "stdout",
          "text": [
            "Ahorro por año durante los 15 años de matrimonio:\n",
            "Año : 1 :  60\n",
            "Año : 2 :  180\n",
            "Año : 3 :  300\n",
            "Año : 4 :  420\n",
            "Año : 5 :  540\n",
            "Año : 6 :  660\n",
            "Año : 7 :  780\n",
            "Año : 8 :  900\n",
            "Año : 9 :  1020\n",
            "Año : 10 :  1140\n",
            "Año : 11 :  1260\n",
            "Año : 12 :  1380\n",
            "Año : 13 :  1500\n",
            "Año : 14 :  1620\n",
            "Año : 15 :  1740\n",
            "\n",
            "Total ahorrado al final del decimoquinto año: 13500\n"
          ]
        }
      ]
    }
  ]
}